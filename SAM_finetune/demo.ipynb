{
  "cells": [
    {
      "cell_type": "markdown",
      "metadata": {
        "id": "view-in-github",
        "colab_type": "text"
      },
      "source": [
        "<a href=\"https://colab.research.google.com/github/MathieuNlp/Sam_LoRA/blob/main/demo.ipynb\" target=\"_parent\"><img src=\"https://colab.research.google.com/assets/colab-badge.svg\" alt=\"Open In Colab\"/></a>"
      ]
    },
    {
      "cell_type": "markdown",
      "metadata": {
        "id": "HfKkvtNWjjz5"
      },
      "source": [
        "# Demo of Sam LoRA with gradio"
      ]
    },
    {
      "cell_type": "code",
      "execution_count": null,
      "metadata": {
        "colab": {
          "base_uri": "https://localhost:8080/"
        },
        "id": "e4Ui1PhmMoaZ",
        "outputId": "a17bc248-1401-4121-dbb8-cc51322e991e"
      },
      "outputs": [
        {
          "name": "stdout",
          "output_type": "stream",
          "text": [
            "Collecting poetry\n",
            "  Downloading poetry-1.6.1-py3-none-any.whl (232 kB)\n",
            "\u001b[2K     \u001b[90m━━━━━━━━━━━━━━━━━━━━━━━━━━━━━━━━━━━━━━━\u001b[0m \u001b[32m232.8/232.8 kB\u001b[0m \u001b[31m5.4 MB/s\u001b[0m eta \u001b[36m0:00:00\u001b[0m\n",
            "\u001b[?25hCollecting build<0.11.0,>=0.10.0 (from poetry)\n",
            "  Downloading build-0.10.0-py3-none-any.whl (17 kB)\n",
            "Requirement already satisfied: cachecontrol[filecache]<0.14.0,>=0.13.0 in /usr/local/lib/python3.10/dist-packages (from poetry) (0.13.1)\n",
            "Collecting cleo<3.0.0,>=2.0.0 (from poetry)\n",
            "  Downloading cleo-2.0.1-py3-none-any.whl (77 kB)\n",
            "\u001b[2K     \u001b[90m━━━━━━━━━━━━━━━━━━━━━━━━━━━━━━━━━━━━━━━━\u001b[0m \u001b[32m77.3/77.3 kB\u001b[0m \u001b[31m9.9 MB/s\u001b[0m eta \u001b[36m0:00:00\u001b[0m\n",
            "\u001b[?25hCollecting crashtest<0.5.0,>=0.4.1 (from poetry)\n",
            "  Downloading crashtest-0.4.1-py3-none-any.whl (7.6 kB)\n",
            "Collecting dulwich<0.22.0,>=0.21.2 (from poetry)\n",
            "  Downloading dulwich-0.21.6-cp310-cp310-manylinux_2_17_x86_64.manylinux2014_x86_64.whl (512 kB)\n",
            "\u001b[2K     \u001b[90m━━━━━━━━━━━━━━━━━━━━━━━━━━━━━━━━━━━━━━\u001b[0m \u001b[32m512.2/512.2 kB\u001b[0m \u001b[31m11.0 MB/s\u001b[0m eta \u001b[36m0:00:00\u001b[0m\n",
            "\u001b[?25hCollecting installer<0.8.0,>=0.7.0 (from poetry)\n",
            "  Downloading installer-0.7.0-py3-none-any.whl (453 kB)\n",
            "\u001b[2K     \u001b[90m━━━━━━━━━━━━━━━━━━━━━━━━━━━━━━━━━━━━━━\u001b[0m \u001b[32m453.8/453.8 kB\u001b[0m \u001b[31m13.4 MB/s\u001b[0m eta \u001b[36m0:00:00\u001b[0m\n",
            "\u001b[?25hCollecting jsonschema<4.18.0,>=4.10.0 (from poetry)\n",
            "  Downloading jsonschema-4.17.3-py3-none-any.whl (90 kB)\n",
            "\u001b[2K     \u001b[90m━━━━━━━━━━━━━━━━━━━━━━━━━━━━━━━━━━━━━━━━\u001b[0m \u001b[32m90.4/90.4 kB\u001b[0m \u001b[31m13.5 MB/s\u001b[0m eta \u001b[36m0:00:00\u001b[0m\n",
            "\u001b[?25hCollecting keyring<25.0.0,>=24.0.0 (from poetry)\n",
            "  Downloading keyring-24.2.0-py3-none-any.whl (37 kB)\n",
            "Requirement already satisfied: packaging>=20.4 in /usr/local/lib/python3.10/dist-packages (from poetry) (23.1)\n",
            "Requirement already satisfied: pexpect<5.0.0,>=4.7.0 in /usr/local/lib/python3.10/dist-packages (from poetry) (4.8.0)\n",
            "Collecting pkginfo<2.0.0,>=1.9.4 (from poetry)\n",
            "  Downloading pkginfo-1.9.6-py3-none-any.whl (30 kB)\n",
            "Requirement already satisfied: platformdirs<4.0.0,>=3.0.0 in /usr/local/lib/python3.10/dist-packages (from poetry) (3.10.0)\n",
            "Collecting poetry-core==1.7.0 (from poetry)\n",
            "  Downloading poetry_core-1.7.0-py3-none-any.whl (426 kB)\n",
            "\u001b[2K     \u001b[90m━━━━━━━━━━━━━━━━━━━━━━━━━━━━━━━━━━━━━━\u001b[0m \u001b[32m426.4/426.4 kB\u001b[0m \u001b[31m13.9 MB/s\u001b[0m eta \u001b[36m0:00:00\u001b[0m\n",
            "\u001b[?25hCollecting poetry-plugin-export<2.0.0,>=1.5.0 (from poetry)\n",
            "  Downloading poetry_plugin_export-1.5.0-py3-none-any.whl (10 kB)\n",
            "Requirement already satisfied: pyproject-hooks<2.0.0,>=1.0.0 in /usr/local/lib/python3.10/dist-packages (from poetry) (1.0.0)\n",
            "Requirement already satisfied: requests<3.0,>=2.26 in /usr/local/lib/python3.10/dist-packages (from poetry) (2.31.0)\n",
            "Collecting requests-toolbelt<2,>=0.9.1 (from poetry)\n",
            "  Downloading requests_toolbelt-1.0.0-py2.py3-none-any.whl (54 kB)\n",
            "\u001b[2K     \u001b[90m━━━━━━━━━━━━━━━━━━━━━━━━━━━━━━━━━━━━━━━━\u001b[0m \u001b[32m54.5/54.5 kB\u001b[0m \u001b[31m7.9 MB/s\u001b[0m eta \u001b[36m0:00:00\u001b[0m\n",
            "\u001b[?25hCollecting shellingham<2.0,>=1.5 (from poetry)\n",
            "  Downloading shellingham-1.5.3-py2.py3-none-any.whl (9.7 kB)\n",
            "Requirement already satisfied: tomli<3.0.0,>=2.0.1 in /usr/local/lib/python3.10/dist-packages (from poetry) (2.0.1)\n",
            "Collecting tomlkit<1.0.0,>=0.11.4 (from poetry)\n",
            "  Downloading tomlkit-0.12.1-py3-none-any.whl (37 kB)\n",
            "Collecting trove-classifiers>=2022.5.19 (from poetry)\n",
            "  Downloading trove_classifiers-2023.9.19-py3-none-any.whl (13 kB)\n",
            "Collecting virtualenv<21.0.0,>=20.22.0 (from poetry)\n",
            "  Downloading virtualenv-20.24.5-py3-none-any.whl (3.7 MB)\n",
            "\u001b[2K     \u001b[90m━━━━━━━━━━━━━━━━━━━━━━━━━━━━━━━━━━━━━━━━\u001b[0m \u001b[32m3.7/3.7 MB\u001b[0m \u001b[31m25.9 MB/s\u001b[0m eta \u001b[36m0:00:00\u001b[0m\n",
            "\u001b[?25hRequirement already satisfied: msgpack>=0.5.2 in /usr/local/lib/python3.10/dist-packages (from cachecontrol[filecache]<0.14.0,>=0.13.0->poetry) (1.0.7)\n",
            "Requirement already satisfied: filelock>=3.8.0 in /usr/local/lib/python3.10/dist-packages (from cachecontrol[filecache]<0.14.0,>=0.13.0->poetry) (3.12.4)\n",
            "Collecting rapidfuzz<3.0.0,>=2.2.0 (from cleo<3.0.0,>=2.0.0->poetry)\n",
            "  Downloading rapidfuzz-2.15.1-cp310-cp310-manylinux_2_17_x86_64.manylinux2014_x86_64.whl (3.0 MB)\n",
            "\u001b[2K     \u001b[90m━━━━━━━━━━━━━━━━━━━━━━━━━━━━━━━━━━━━━━━━\u001b[0m \u001b[32m3.0/3.0 MB\u001b[0m \u001b[31m40.9 MB/s\u001b[0m eta \u001b[36m0:00:00\u001b[0m\n",
            "\u001b[?25hRequirement already satisfied: urllib3>=1.25 in /usr/local/lib/python3.10/dist-packages (from dulwich<0.22.0,>=0.21.2->poetry) (2.0.5)\n",
            "Requirement already satisfied: attrs>=17.4.0 in /usr/local/lib/python3.10/dist-packages (from jsonschema<4.18.0,>=4.10.0->poetry) (23.1.0)\n",
            "Collecting pyrsistent!=0.17.0,!=0.17.1,!=0.17.2,>=0.14.0 (from jsonschema<4.18.0,>=4.10.0->poetry)\n",
            "  Downloading pyrsistent-0.19.3-py3-none-any.whl (57 kB)\n",
            "\u001b[2K     \u001b[90m━━━━━━━━━━━━━━━━━━━━━━━━━━━━━━━━━━━━━━━━\u001b[0m \u001b[32m57.5/57.5 kB\u001b[0m \u001b[31m7.6 MB/s\u001b[0m eta \u001b[36m0:00:00\u001b[0m\n",
            "\u001b[?25hCollecting jaraco.classes (from keyring<25.0.0,>=24.0.0->poetry)\n",
            "  Downloading jaraco.classes-3.3.0-py3-none-any.whl (5.9 kB)\n",
            "Requirement already satisfied: importlib-metadata>=4.11.4 in /usr/local/lib/python3.10/dist-packages (from keyring<25.0.0,>=24.0.0->poetry) (6.8.0)\n",
            "Requirement already satisfied: SecretStorage>=3.2 in /usr/lib/python3/dist-packages (from keyring<25.0.0,>=24.0.0->poetry) (3.3.1)\n",
            "Requirement already satisfied: jeepney>=0.4.2 in /usr/lib/python3/dist-packages (from keyring<25.0.0,>=24.0.0->poetry) (0.7.1)\n",
            "Requirement already satisfied: ptyprocess>=0.5 in /usr/local/lib/python3.10/dist-packages (from pexpect<5.0.0,>=4.7.0->poetry) (0.7.0)\n",
            "Requirement already satisfied: charset-normalizer<4,>=2 in /usr/local/lib/python3.10/dist-packages (from requests<3.0,>=2.26->poetry) (3.2.0)\n",
            "Requirement already satisfied: idna<4,>=2.5 in /usr/local/lib/python3.10/dist-packages (from requests<3.0,>=2.26->poetry) (3.4)\n",
            "Requirement already satisfied: certifi>=2017.4.17 in /usr/local/lib/python3.10/dist-packages (from requests<3.0,>=2.26->poetry) (2023.7.22)\n",
            "Collecting distlib<1,>=0.3.7 (from virtualenv<21.0.0,>=20.22.0->poetry)\n",
            "  Downloading distlib-0.3.7-py2.py3-none-any.whl (468 kB)\n",
            "\u001b[2K     \u001b[90m━━━━━━━━━━━━━━━━━━━━━━━━━━━━━━━━━━━━━━\u001b[0m \u001b[32m468.9/468.9 kB\u001b[0m \u001b[31m46.4 MB/s\u001b[0m eta \u001b[36m0:00:00\u001b[0m\n",
            "\u001b[?25hRequirement already satisfied: zipp>=0.5 in /usr/local/lib/python3.10/dist-packages (from importlib-metadata>=4.11.4->keyring<25.0.0,>=24.0.0->poetry) (3.17.0)\n",
            "Requirement already satisfied: more-itertools in /usr/local/lib/python3.10/dist-packages (from jaraco.classes->keyring<25.0.0,>=24.0.0->poetry) (10.1.0)\n",
            "Installing collected packages: trove-classifiers, distlib, virtualenv, tomlkit, shellingham, rapidfuzz, pyrsistent, poetry-core, pkginfo, jaraco.classes, installer, dulwich, crashtest, requests-toolbelt, keyring, jsonschema, cleo, build, poetry-plugin-export, poetry\n",
            "  Attempting uninstall: keyring\n",
            "    Found existing installation: keyring 23.5.0\n",
            "    Uninstalling keyring-23.5.0:\n",
            "      Successfully uninstalled keyring-23.5.0\n",
            "  Attempting uninstall: jsonschema\n",
            "    Found existing installation: jsonschema 4.19.1\n",
            "    Uninstalling jsonschema-4.19.1:\n",
            "      Successfully uninstalled jsonschema-4.19.1\n",
            "  Attempting uninstall: build\n",
            "    Found existing installation: build 1.0.3\n",
            "    Uninstalling build-1.0.3:\n",
            "      Successfully uninstalled build-1.0.3\n",
            "Successfully installed build-0.10.0 cleo-2.0.1 crashtest-0.4.1 distlib-0.3.7 dulwich-0.21.6 installer-0.7.0 jaraco.classes-3.3.0 jsonschema-4.17.3 keyring-24.2.0 pkginfo-1.9.6 poetry-1.6.1 poetry-core-1.7.0 poetry-plugin-export-1.5.0 pyrsistent-0.19.3 rapidfuzz-2.15.1 requests-toolbelt-1.0.0 shellingham-1.5.3 tomlkit-0.12.1 trove-classifiers-2023.9.19 virtualenv-20.24.5\n"
          ]
        }
      ],
      "source": [
        "!pip install poetry"
      ]
    },
    {
      "cell_type": "code",
      "execution_count": null,
      "metadata": {
        "id": "2HGBTHFjMIJZ"
      },
      "outputs": [],
      "source": [
        "!rm -rf Sam_LoRA"
      ]
    },
    {
      "cell_type": "code",
      "execution_count": null,
      "metadata": {
        "colab": {
          "base_uri": "https://localhost:8080/"
        },
        "id": "Cn4ZxSdsNQu5",
        "outputId": "e2f0e728-b692-48a4-b61a-70638726db29"
      },
      "outputs": [
        {
          "name": "stdout",
          "output_type": "stream",
          "text": [
            "Cloning into 'Sam_LoRA'...\n",
            "remote: Enumerating objects: 1400, done.\u001b[K\n",
            "remote: Counting objects: 100% (503/503), done.\u001b[K\n",
            "remote: Compressing objects: 100% (342/342), done.\u001b[K\n",
            "remote: Total 1400 (delta 178), reused 393 (delta 160), pack-reused 897\u001b[K\n",
            "Receiving objects: 100% (1400/1400), 173.32 MiB | 31.34 MiB/s, done.\n",
            "Resolving deltas: 100% (737/737), done.\n",
            "Updating files: 100% (104/104), done.\n"
          ]
        }
      ],
      "source": [
        "!git clone https://github.com/MathieuNlp/Sam_LoRA.git"
      ]
    },
    {
      "cell_type": "code",
      "execution_count": null,
      "metadata": {
        "id": "ItKADk2xctiq"
      },
      "outputs": [],
      "source": [
        "import os\n",
        "os.chdir(\"/content/Sam_LoRA\")"
      ]
    },
    {
      "cell_type": "code",
      "execution_count": null,
      "metadata": {
        "id": "oOWZChi1cAR7"
      },
      "outputs": [],
      "source": [
        "!poetry config virtualenvs.in-project false"
      ]
    },
    {
      "cell_type": "code",
      "execution_count": null,
      "metadata": {
        "colab": {
          "base_uri": "https://localhost:8080/"
        },
        "id": "_y1XlptMc2WT",
        "outputId": "dbc7a1a2-3c2b-4484-a4ba-004c492e46bc"
      },
      "outputs": [
        {
          "name": "stdout",
          "output_type": "stream",
          "text": [
            "Creating virtualenv \u001b[36msam-lora-poetry-T_AlIWZT-py3.10\u001b[39m in /root/.cache/pypoetry/virtualenvs\n",
            "\u001b[34mInstalling dependencies from lock file\u001b[39m\n",
            "\n",
            "\u001b[39;1mPackage operations\u001b[39;22m: \u001b[34m71\u001b[39m installs, \u001b[34m1\u001b[39m update, \u001b[34m0\u001b[39m removals\n",
            "\n"
          ]
        }
      ],
      "source": [
        "!poetry install --all-extras"
      ]
    },
    {
      "cell_type": "markdown",
      "metadata": {
        "id": "ACCjqapZibaE"
      },
      "source": [
        "It seems that poetry has some trouble with colab for torch, cv2 and safetensors libraries so I manualy added it.\n",
        "\n",
        "If you run on a local machine, no need to do the poetry run as follows"
      ]
    },
    {
      "cell_type": "code",
      "execution_count": null,
      "metadata": {
        "colab": {
          "base_uri": "https://localhost:8080/"
        },
        "id": "MG6nj_n4iHZT",
        "outputId": "f720ff3d-4415-46d9-fa04-558415bd9232"
      },
      "outputs": [
        {
          "name": "stdout",
          "output_type": "stream",
          "text": [
            "Requirement already satisfied: torch in /root/.cache/pypoetry/virtualenvs/sam-lora-poetry-T_AlIWZT-py3.10/lib/python3.10/site-packages (2.1.0)\n",
            "Requirement already satisfied: torchvision in /root/.cache/pypoetry/virtualenvs/sam-lora-poetry-T_AlIWZT-py3.10/lib/python3.10/site-packages (0.16.0)\n",
            "Requirement already satisfied: gradio in /root/.cache/pypoetry/virtualenvs/sam-lora-poetry-T_AlIWZT-py3.10/lib/python3.10/site-packages (3.46.1)\n",
            "Requirement already satisfied: opencv-python in /root/.cache/pypoetry/virtualenvs/sam-lora-poetry-T_AlIWZT-py3.10/lib/python3.10/site-packages (4.8.1.78)\n",
            "Collecting safetensors\n",
            "  Obtaining dependency information for safetensors from https://files.pythonhosted.org/packages/6c/f0/c17bbdb1e5f9dab29d44cade445135789f75f8f08ea2728d04493ea8412b/safetensors-0.3.3-cp310-cp310-manylinux_2_17_x86_64.manylinux2014_x86_64.whl.metadata\n",
            "  Downloading safetensors-0.3.3-cp310-cp310-manylinux_2_17_x86_64.manylinux2014_x86_64.whl.metadata (4.7 kB)\n",
            "Requirement already satisfied: filelock in /root/.cache/pypoetry/virtualenvs/sam-lora-poetry-T_AlIWZT-py3.10/lib/python3.10/site-packages (from torch) (3.12.4)\n",
            "Requirement already satisfied: typing-extensions in /root/.cache/pypoetry/virtualenvs/sam-lora-poetry-T_AlIWZT-py3.10/lib/python3.10/site-packages (from torch) (4.8.0)\n",
            "Requirement already satisfied: sympy in /root/.cache/pypoetry/virtualenvs/sam-lora-poetry-T_AlIWZT-py3.10/lib/python3.10/site-packages (from torch) (1.12)\n",
            "Requirement already satisfied: networkx in /root/.cache/pypoetry/virtualenvs/sam-lora-poetry-T_AlIWZT-py3.10/lib/python3.10/site-packages (from torch) (3.1)\n",
            "Requirement already satisfied: jinja2 in /root/.cache/pypoetry/virtualenvs/sam-lora-poetry-T_AlIWZT-py3.10/lib/python3.10/site-packages (from torch) (3.1.2)\n",
            "Requirement already satisfied: fsspec in /root/.cache/pypoetry/virtualenvs/sam-lora-poetry-T_AlIWZT-py3.10/lib/python3.10/site-packages (from torch) (2023.9.2)\n",
            "Requirement already satisfied: nvidia-cuda-nvrtc-cu12==12.1.105 in /root/.cache/pypoetry/virtualenvs/sam-lora-poetry-T_AlIWZT-py3.10/lib/python3.10/site-packages (from torch) (12.1.105)\n",
            "Requirement already satisfied: nvidia-cuda-runtime-cu12==12.1.105 in /root/.cache/pypoetry/virtualenvs/sam-lora-poetry-T_AlIWZT-py3.10/lib/python3.10/site-packages (from torch) (12.1.105)\n",
            "Requirement already satisfied: nvidia-cuda-cupti-cu12==12.1.105 in /root/.cache/pypoetry/virtualenvs/sam-lora-poetry-T_AlIWZT-py3.10/lib/python3.10/site-packages (from torch) (12.1.105)\n",
            "Requirement already satisfied: nvidia-cudnn-cu12==8.9.2.26 in /root/.cache/pypoetry/virtualenvs/sam-lora-poetry-T_AlIWZT-py3.10/lib/python3.10/site-packages (from torch) (8.9.2.26)\n",
            "Requirement already satisfied: nvidia-cublas-cu12==12.1.3.1 in /root/.cache/pypoetry/virtualenvs/sam-lora-poetry-T_AlIWZT-py3.10/lib/python3.10/site-packages (from torch) (12.1.3.1)\n",
            "Requirement already satisfied: nvidia-cufft-cu12==11.0.2.54 in /root/.cache/pypoetry/virtualenvs/sam-lora-poetry-T_AlIWZT-py3.10/lib/python3.10/site-packages (from torch) (11.0.2.54)\n",
            "Requirement already satisfied: nvidia-curand-cu12==10.3.2.106 in /root/.cache/pypoetry/virtualenvs/sam-lora-poetry-T_AlIWZT-py3.10/lib/python3.10/site-packages (from torch) (10.3.2.106)\n",
            "Requirement already satisfied: nvidia-cusolver-cu12==11.4.5.107 in /root/.cache/pypoetry/virtualenvs/sam-lora-poetry-T_AlIWZT-py3.10/lib/python3.10/site-packages (from torch) (11.4.5.107)\n",
            "Requirement already satisfied: nvidia-cusparse-cu12==12.1.0.106 in /root/.cache/pypoetry/virtualenvs/sam-lora-poetry-T_AlIWZT-py3.10/lib/python3.10/site-packages (from torch) (12.1.0.106)\n",
            "Requirement already satisfied: nvidia-nccl-cu12==2.18.1 in /root/.cache/pypoetry/virtualenvs/sam-lora-poetry-T_AlIWZT-py3.10/lib/python3.10/site-packages (from torch) (2.18.1)\n",
            "Requirement already satisfied: nvidia-nvtx-cu12==12.1.105 in /root/.cache/pypoetry/virtualenvs/sam-lora-poetry-T_AlIWZT-py3.10/lib/python3.10/site-packages (from torch) (12.1.105)\n",
            "Requirement already satisfied: triton==2.1.0 in /root/.cache/pypoetry/virtualenvs/sam-lora-poetry-T_AlIWZT-py3.10/lib/python3.10/site-packages (from torch) (2.1.0)\n",
            "Requirement already satisfied: nvidia-nvjitlink-cu12 in /root/.cache/pypoetry/virtualenvs/sam-lora-poetry-T_AlIWZT-py3.10/lib/python3.10/site-packages (from nvidia-cusolver-cu12==11.4.5.107->torch) (12.2.140)\n",
            "Requirement already satisfied: numpy in /root/.cache/pypoetry/virtualenvs/sam-lora-poetry-T_AlIWZT-py3.10/lib/python3.10/site-packages (from torchvision) (1.26.0)\n",
            "Requirement already satisfied: requests in /root/.cache/pypoetry/virtualenvs/sam-lora-poetry-T_AlIWZT-py3.10/lib/python3.10/site-packages (from torchvision) (2.31.0)\n",
            "Requirement already satisfied: pillow!=8.3.*,>=5.3.0 in /root/.cache/pypoetry/virtualenvs/sam-lora-poetry-T_AlIWZT-py3.10/lib/python3.10/site-packages (from torchvision) (10.0.1)\n",
            "Requirement already satisfied: aiofiles<24.0,>=22.0 in /root/.cache/pypoetry/virtualenvs/sam-lora-poetry-T_AlIWZT-py3.10/lib/python3.10/site-packages (from gradio) (23.2.1)\n",
            "Requirement already satisfied: altair<6.0,>=4.2.0 in /root/.cache/pypoetry/virtualenvs/sam-lora-poetry-T_AlIWZT-py3.10/lib/python3.10/site-packages (from gradio) (5.1.2)\n",
            "Requirement already satisfied: fastapi in /root/.cache/pypoetry/virtualenvs/sam-lora-poetry-T_AlIWZT-py3.10/lib/python3.10/site-packages (from gradio) (0.103.2)\n",
            "Requirement already satisfied: ffmpy in /root/.cache/pypoetry/virtualenvs/sam-lora-poetry-T_AlIWZT-py3.10/lib/python3.10/site-packages (from gradio) (0.3.1)\n",
            "Requirement already satisfied: gradio-client==0.5.3 in /root/.cache/pypoetry/virtualenvs/sam-lora-poetry-T_AlIWZT-py3.10/lib/python3.10/site-packages (from gradio) (0.5.3)\n",
            "Requirement already satisfied: httpx in /root/.cache/pypoetry/virtualenvs/sam-lora-poetry-T_AlIWZT-py3.10/lib/python3.10/site-packages (from gradio) (0.25.0)\n",
            "Requirement already satisfied: huggingface-hub>=0.14.0 in /root/.cache/pypoetry/virtualenvs/sam-lora-poetry-T_AlIWZT-py3.10/lib/python3.10/site-packages (from gradio) (0.17.3)\n",
            "Requirement already satisfied: importlib-resources<7.0,>=1.3 in /root/.cache/pypoetry/virtualenvs/sam-lora-poetry-T_AlIWZT-py3.10/lib/python3.10/site-packages (from gradio) (6.1.0)\n",
            "Requirement already satisfied: markupsafe~=2.0 in /root/.cache/pypoetry/virtualenvs/sam-lora-poetry-T_AlIWZT-py3.10/lib/python3.10/site-packages (from gradio) (2.1.3)\n",
            "Requirement already satisfied: matplotlib~=3.0 in /root/.cache/pypoetry/virtualenvs/sam-lora-poetry-T_AlIWZT-py3.10/lib/python3.10/site-packages (from gradio) (3.8.0)\n",
            "Requirement already satisfied: orjson~=3.0 in /root/.cache/pypoetry/virtualenvs/sam-lora-poetry-T_AlIWZT-py3.10/lib/python3.10/site-packages (from gradio) (3.9.7)\n",
            "Requirement already satisfied: packaging in /root/.cache/pypoetry/virtualenvs/sam-lora-poetry-T_AlIWZT-py3.10/lib/python3.10/site-packages (from gradio) (23.2)\n",
            "Requirement already satisfied: pandas<3.0,>=1.0 in /root/.cache/pypoetry/virtualenvs/sam-lora-poetry-T_AlIWZT-py3.10/lib/python3.10/site-packages (from gradio) (2.1.1)\n",
            "Requirement already satisfied: pydantic!=1.8,!=1.8.1,!=2.0.0,!=2.0.1,<3.0.0,>=1.7.4 in /root/.cache/pypoetry/virtualenvs/sam-lora-poetry-T_AlIWZT-py3.10/lib/python3.10/site-packages (from gradio) (2.4.2)\n",
            "Requirement already satisfied: pydub in /root/.cache/pypoetry/virtualenvs/sam-lora-poetry-T_AlIWZT-py3.10/lib/python3.10/site-packages (from gradio) (0.25.1)\n",
            "Requirement already satisfied: python-multipart in /root/.cache/pypoetry/virtualenvs/sam-lora-poetry-T_AlIWZT-py3.10/lib/python3.10/site-packages (from gradio) (0.0.6)\n",
            "Requirement already satisfied: pyyaml<7.0,>=5.0 in /root/.cache/pypoetry/virtualenvs/sam-lora-poetry-T_AlIWZT-py3.10/lib/python3.10/site-packages (from gradio) (6.0.1)\n",
            "Requirement already satisfied: semantic-version~=2.0 in /root/.cache/pypoetry/virtualenvs/sam-lora-poetry-T_AlIWZT-py3.10/lib/python3.10/site-packages (from gradio) (2.10.0)\n",
            "Requirement already satisfied: uvicorn>=0.14.0 in /root/.cache/pypoetry/virtualenvs/sam-lora-poetry-T_AlIWZT-py3.10/lib/python3.10/site-packages (from gradio) (0.23.2)\n",
            "Requirement already satisfied: websockets<12.0,>=10.0 in /root/.cache/pypoetry/virtualenvs/sam-lora-poetry-T_AlIWZT-py3.10/lib/python3.10/site-packages (from gradio) (11.0.3)\n",
            "Requirement already satisfied: jsonschema>=3.0 in /root/.cache/pypoetry/virtualenvs/sam-lora-poetry-T_AlIWZT-py3.10/lib/python3.10/site-packages (from altair<6.0,>=4.2.0->gradio) (4.19.1)\n",
            "Requirement already satisfied: toolz in /root/.cache/pypoetry/virtualenvs/sam-lora-poetry-T_AlIWZT-py3.10/lib/python3.10/site-packages (from altair<6.0,>=4.2.0->gradio) (0.12.0)\n",
            "Requirement already satisfied: tqdm>=4.42.1 in /root/.cache/pypoetry/virtualenvs/sam-lora-poetry-T_AlIWZT-py3.10/lib/python3.10/site-packages (from huggingface-hub>=0.14.0->gradio) (4.66.1)\n",
            "Requirement already satisfied: contourpy>=1.0.1 in /root/.cache/pypoetry/virtualenvs/sam-lora-poetry-T_AlIWZT-py3.10/lib/python3.10/site-packages (from matplotlib~=3.0->gradio) (1.1.1)\n",
            "Requirement already satisfied: cycler>=0.10 in /root/.cache/pypoetry/virtualenvs/sam-lora-poetry-T_AlIWZT-py3.10/lib/python3.10/site-packages (from matplotlib~=3.0->gradio) (0.12.0)\n",
            "Requirement already satisfied: fonttools>=4.22.0 in /root/.cache/pypoetry/virtualenvs/sam-lora-poetry-T_AlIWZT-py3.10/lib/python3.10/site-packages (from matplotlib~=3.0->gradio) (4.43.0)\n",
            "Requirement already satisfied: kiwisolver>=1.0.1 in /root/.cache/pypoetry/virtualenvs/sam-lora-poetry-T_AlIWZT-py3.10/lib/python3.10/site-packages (from matplotlib~=3.0->gradio) (1.4.5)\n",
            "Requirement already satisfied: pyparsing>=2.3.1 in /root/.cache/pypoetry/virtualenvs/sam-lora-poetry-T_AlIWZT-py3.10/lib/python3.10/site-packages (from matplotlib~=3.0->gradio) (3.1.1)\n",
            "Requirement already satisfied: python-dateutil>=2.7 in /root/.cache/pypoetry/virtualenvs/sam-lora-poetry-T_AlIWZT-py3.10/lib/python3.10/site-packages (from matplotlib~=3.0->gradio) (2.8.2)\n",
            "Requirement already satisfied: pytz>=2020.1 in /root/.cache/pypoetry/virtualenvs/sam-lora-poetry-T_AlIWZT-py3.10/lib/python3.10/site-packages (from pandas<3.0,>=1.0->gradio) (2023.3.post1)\n",
            "Requirement already satisfied: tzdata>=2022.1 in /root/.cache/pypoetry/virtualenvs/sam-lora-poetry-T_AlIWZT-py3.10/lib/python3.10/site-packages (from pandas<3.0,>=1.0->gradio) (2023.3)\n",
            "Requirement already satisfied: annotated-types>=0.4.0 in /root/.cache/pypoetry/virtualenvs/sam-lora-poetry-T_AlIWZT-py3.10/lib/python3.10/site-packages (from pydantic!=1.8,!=1.8.1,!=2.0.0,!=2.0.1,<3.0.0,>=1.7.4->gradio) (0.5.0)\n",
            "Requirement already satisfied: pydantic-core==2.10.1 in /root/.cache/pypoetry/virtualenvs/sam-lora-poetry-T_AlIWZT-py3.10/lib/python3.10/site-packages (from pydantic!=1.8,!=1.8.1,!=2.0.0,!=2.0.1,<3.0.0,>=1.7.4->gradio) (2.10.1)\n",
            "Requirement already satisfied: charset-normalizer<4,>=2 in /root/.cache/pypoetry/virtualenvs/sam-lora-poetry-T_AlIWZT-py3.10/lib/python3.10/site-packages (from requests->torchvision) (3.3.0)\n",
            "Requirement already satisfied: idna<4,>=2.5 in /root/.cache/pypoetry/virtualenvs/sam-lora-poetry-T_AlIWZT-py3.10/lib/python3.10/site-packages (from requests->torchvision) (3.4)\n",
            "Requirement already satisfied: urllib3<3,>=1.21.1 in /root/.cache/pypoetry/virtualenvs/sam-lora-poetry-T_AlIWZT-py3.10/lib/python3.10/site-packages (from requests->torchvision) (2.0.6)\n",
            "Requirement already satisfied: certifi>=2017.4.17 in /root/.cache/pypoetry/virtualenvs/sam-lora-poetry-T_AlIWZT-py3.10/lib/python3.10/site-packages (from requests->torchvision) (2023.7.22)\n",
            "Requirement already satisfied: click>=7.0 in /root/.cache/pypoetry/virtualenvs/sam-lora-poetry-T_AlIWZT-py3.10/lib/python3.10/site-packages (from uvicorn>=0.14.0->gradio) (8.1.7)\n",
            "Requirement already satisfied: h11>=0.8 in /root/.cache/pypoetry/virtualenvs/sam-lora-poetry-T_AlIWZT-py3.10/lib/python3.10/site-packages (from uvicorn>=0.14.0->gradio) (0.14.0)\n",
            "Requirement already satisfied: anyio<4.0.0,>=3.7.1 in /root/.cache/pypoetry/virtualenvs/sam-lora-poetry-T_AlIWZT-py3.10/lib/python3.10/site-packages (from fastapi->gradio) (3.7.1)\n",
            "Requirement already satisfied: starlette<0.28.0,>=0.27.0 in /root/.cache/pypoetry/virtualenvs/sam-lora-poetry-T_AlIWZT-py3.10/lib/python3.10/site-packages (from fastapi->gradio) (0.27.0)\n",
            "Requirement already satisfied: httpcore<0.19.0,>=0.18.0 in /root/.cache/pypoetry/virtualenvs/sam-lora-poetry-T_AlIWZT-py3.10/lib/python3.10/site-packages (from httpx->gradio) (0.18.0)\n",
            "Requirement already satisfied: sniffio in /root/.cache/pypoetry/virtualenvs/sam-lora-poetry-T_AlIWZT-py3.10/lib/python3.10/site-packages (from httpx->gradio) (1.3.0)\n",
            "Requirement already satisfied: mpmath>=0.19 in /root/.cache/pypoetry/virtualenvs/sam-lora-poetry-T_AlIWZT-py3.10/lib/python3.10/site-packages (from sympy->torch) (1.3.0)\n",
            "Requirement already satisfied: exceptiongroup in /root/.cache/pypoetry/virtualenvs/sam-lora-poetry-T_AlIWZT-py3.10/lib/python3.10/site-packages (from anyio<4.0.0,>=3.7.1->fastapi->gradio) (1.1.3)\n",
            "Requirement already satisfied: attrs>=22.2.0 in /root/.cache/pypoetry/virtualenvs/sam-lora-poetry-T_AlIWZT-py3.10/lib/python3.10/site-packages (from jsonschema>=3.0->altair<6.0,>=4.2.0->gradio) (23.1.0)\n",
            "Requirement already satisfied: jsonschema-specifications>=2023.03.6 in /root/.cache/pypoetry/virtualenvs/sam-lora-poetry-T_AlIWZT-py3.10/lib/python3.10/site-packages (from jsonschema>=3.0->altair<6.0,>=4.2.0->gradio) (2023.7.1)\n",
            "Requirement already satisfied: referencing>=0.28.4 in /root/.cache/pypoetry/virtualenvs/sam-lora-poetry-T_AlIWZT-py3.10/lib/python3.10/site-packages (from jsonschema>=3.0->altair<6.0,>=4.2.0->gradio) (0.30.2)\n",
            "Requirement already satisfied: rpds-py>=0.7.1 in /root/.cache/pypoetry/virtualenvs/sam-lora-poetry-T_AlIWZT-py3.10/lib/python3.10/site-packages (from jsonschema>=3.0->altair<6.0,>=4.2.0->gradio) (0.10.4)\n",
            "Requirement already satisfied: six>=1.5 in /root/.cache/pypoetry/virtualenvs/sam-lora-poetry-T_AlIWZT-py3.10/lib/python3.10/site-packages (from python-dateutil>=2.7->matplotlib~=3.0->gradio) (1.16.0)\n",
            "Downloading safetensors-0.3.3-cp310-cp310-manylinux_2_17_x86_64.manylinux2014_x86_64.whl (1.3 MB)\n",
            "\u001b[2K   \u001b[90m━━━━━━━━━━━━━━━━━━━━━━━━━━━━━━━━━━━━━━━━\u001b[0m \u001b[32m1.3/1.3 MB\u001b[0m \u001b[31m8.1 MB/s\u001b[0m eta \u001b[36m0:00:00\u001b[0m\n",
            "\u001b[?25hInstalling collected packages: safetensors\n",
            "Successfully installed safetensors-0.3.3\n"
          ]
        }
      ],
      "source": [
        "!poetry run pip install --upgrade torch torchvision gradio safetensors opencv-python"
      ]
    },
    {
      "cell_type": "code",
      "execution_count": null,
      "metadata": {
        "colab": {
          "base_uri": "https://localhost:8080/"
        },
        "id": "we8oO564MUNJ",
        "outputId": "e80942f5-220e-45fb-bfc6-59f027266818"
      },
      "outputs": [
        {
          "name": "stdout",
          "output_type": "stream",
          "text": [
            "--2023-10-05 14:54:13--  https://dl.fbaipublicfiles.com/segment_anything/sam_vit_b_01ec64.pth\n",
            "Resolving dl.fbaipublicfiles.com (dl.fbaipublicfiles.com)... 13.226.210.111, 13.226.210.25, 13.226.210.15, ...\n",
            "Connecting to dl.fbaipublicfiles.com (dl.fbaipublicfiles.com)|13.226.210.111|:443... connected.\n",
            "HTTP request sent, awaiting response... 200 OK\n",
            "Length: 375042383 (358M) [binary/octet-stream]\n",
            "Saving to: ‘sam_vit_b_01ec64.pth’\n",
            "\n",
            "sam_vit_b_01ec64.pt 100%[===================>] 357.67M   167MB/s    in 2.1s    \n",
            "\n",
            "2023-10-05 14:54:15 (167 MB/s) - ‘sam_vit_b_01ec64.pth’ saved [375042383/375042383]\n",
            "\n"
          ]
        }
      ],
      "source": [
        "!wget https://dl.fbaipublicfiles.com/segment_anything/sam_vit_b_01ec64.pth"
      ]
    },
    {
      "cell_type": "markdown",
      "metadata": {
        "id": "-gqGccLijoZ6"
      },
      "source": [
        "Click on the public URL once running"
      ]
    },
    {
      "cell_type": "code",
      "execution_count": null,
      "metadata": {
        "colab": {
          "base_uri": "https://localhost:8080/"
        },
        "id": "POemyc0dMamh",
        "outputId": "21a33f33-877e-4c84-e660-2231a45d56a7"
      },
      "outputs": [
        {
          "name": "stdout",
          "output_type": "stream",
          "text": [
            "/content/Sam_LoRA/./app.py:45: GradioDeprecationWarning: The `style` method is deprecated. Please set these arguments in the constructor instead.\n",
            "  with gr.Row().style(equal_height=True):\n",
            "Running on local URL:  http://127.0.0.1:7860\n",
            "Running on public URL: https://d5252f18c60480e816.gradio.live\n",
            "\n",
            "This share link expires in 72 hours. For free permanent hosting and GPU upgrades, run `gradio deploy` from Terminal to deploy to Spaces (https://huggingface.co/spaces)\n",
            "Traceback (most recent call last):\n",
            "  File \"/root/.cache/pypoetry/virtualenvs/sam-lora-poetry-T_AlIWZT-py3.10/lib/python3.10/site-packages/gradio/routes.py\", line 544, in predict\n",
            "    output = await route_utils.call_process_api(\n",
            "  File \"/root/.cache/pypoetry/virtualenvs/sam-lora-poetry-T_AlIWZT-py3.10/lib/python3.10/site-packages/gradio/route_utils.py\", line 216, in call_process_api\n",
            "    with utils.MatplotlibBackendMananger():\n",
            "  File \"/root/.cache/pypoetry/virtualenvs/sam-lora-poetry-T_AlIWZT-py3.10/lib/python3.10/site-packages/gradio/utils.py\", line 855, in __exit__\n",
            "    matplotlib.use(self._original_backend)\n",
            "  File \"/root/.cache/pypoetry/virtualenvs/sam-lora-poetry-T_AlIWZT-py3.10/lib/python3.10/site-packages/matplotlib/__init__.py\", line 1249, in use\n",
            "    plt.switch_backend(name)\n",
            "  File \"/root/.cache/pypoetry/virtualenvs/sam-lora-poetry-T_AlIWZT-py3.10/lib/python3.10/site-packages/matplotlib/pyplot.py\", line 342, in switch_backend\n",
            "    module = importlib.import_module(cbook._backend_module_name(newbackend))\n",
            "  File \"/usr/lib/python3.10/importlib/__init__.py\", line 126, in import_module\n",
            "    return _bootstrap._gcd_import(name[level:], package, level)\n",
            "  File \"<frozen importlib._bootstrap>\", line 1050, in _gcd_import\n",
            "  File \"<frozen importlib._bootstrap>\", line 1027, in _find_and_load\n",
            "  File \"<frozen importlib._bootstrap>\", line 992, in _find_and_load_unlocked\n",
            "  File \"<frozen importlib._bootstrap>\", line 241, in _call_with_frames_removed\n",
            "  File \"<frozen importlib._bootstrap>\", line 1050, in _gcd_import\n",
            "  File \"<frozen importlib._bootstrap>\", line 1027, in _find_and_load\n",
            "  File \"<frozen importlib._bootstrap>\", line 992, in _find_and_load_unlocked\n",
            "  File \"<frozen importlib._bootstrap>\", line 241, in _call_with_frames_removed\n",
            "  File \"<frozen importlib._bootstrap>\", line 1050, in _gcd_import\n",
            "  File \"<frozen importlib._bootstrap>\", line 1027, in _find_and_load\n",
            "  File \"<frozen importlib._bootstrap>\", line 1004, in _find_and_load_unlocked\n",
            "ModuleNotFoundError: No module named 'ipykernel'\n",
            "[[126, 118]]\n",
            "[[126, 118], [553, 339]]\n",
            "[[126, 98]]\n",
            "[[126, 98], [546, 347]]\n",
            "Keyboard interruption in main thread... closing server.\n",
            "Traceback (most recent call last):\n",
            "  File \"/root/.cache/pypoetry/virtualenvs/sam-lora-poetry-T_AlIWZT-py3.10/lib/python3.10/site-packages/gradio/blocks.py\", line 2365, in block_thread\n",
            "    time.sleep(0.1)\n",
            "KeyboardInterrupt\n",
            "\n",
            "During handling of the above exception, another exception occurred:\n",
            "\n",
            "Traceback (most recent call last):\n",
            "  File \"/content/Sam_LoRA/./app.py\", line 131, in <module>\n",
            "    demo.launch(share=True)\n",
            "  File \"/root/.cache/pypoetry/virtualenvs/sam-lora-poetry-T_AlIWZT-py3.10/lib/python3.10/site-packages/gradio/blocks.py\", line 2270, in launch\n",
            "    self.block_thread()\n",
            "  File \"/root/.cache/pypoetry/virtualenvs/sam-lora-poetry-T_AlIWZT-py3.10/lib/python3.10/site-packages/gradio/blocks.py\", line 2369, in block_thread\n",
            "    self.server.close()\n",
            "  File \"/root/.cache/pypoetry/virtualenvs/sam-lora-poetry-T_AlIWZT-py3.10/lib/python3.10/site-packages/gradio/networking.py\", line 75, in close\n",
            "    self.thread.join()\n",
            "  File \"/usr/lib/python3.10/threading.py\", line 1096, in join\n",
            "    self._wait_for_tstate_lock()\n",
            "  File \"/usr/lib/python3.10/threading.py\", line 1116, in _wait_for_tstate_lock\n",
            "    if lock.acquire(block, timeout):\n",
            "KeyboardInterrupt\n",
            "Killing tunnel 127.0.0.1:7860 <> https://d5252f18c60480e816.gradio.live\n",
            "^C\n"
          ]
        }
      ],
      "source": [
        "!poetry run python ./app.py"
      ]
    },
    {
      "cell_type": "code",
      "execution_count": null,
      "metadata": {
        "id": "15vLPZ2MVeiM"
      },
      "outputs": [],
      "source": []
    }
  ],
  "metadata": {
    "accelerator": "GPU",
    "colab": {
      "gpuType": "T4",
      "provenance": [],
      "include_colab_link": true
    },
    "kernelspec": {
      "display_name": "Python 3",
      "name": "python3"
    },
    "language_info": {
      "name": "python"
    }
  },
  "nbformat": 4,
  "nbformat_minor": 0
}